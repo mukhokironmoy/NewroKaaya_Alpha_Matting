{
 "cells": [
  {
   "cell_type": "markdown",
   "id": "b71789a1-feaf-449f-bf84-47521949ece8",
   "metadata": {},
   "source": [
    "### image collect and store"
   ]
  },
  {
   "cell_type": "code",
   "execution_count": 10,
   "id": "0fb2ec91-fc9f-49e7-87d0-9e59b387e872",
   "metadata": {},
   "outputs": [
    {
     "name": "stdout",
     "output_type": "stream",
     "text": [
      "Enter your name:  ankit\n"
     ]
    },
    {
     "name": "stdout",
     "output_type": "stream",
     "text": [
      "Saving frames to: E:\\removeBackground\\ankit\n"
     ]
    }
   ],
   "source": [
    "import cv2\n",
    "import mediapipe as mp\n",
    "import numpy as np\n",
    "import os\n",
    "\n",
    "name = input(\"Enter your name: \")\n",
    "\n",
    "folder_path = os.path.join(os.getcwd(), name)\n",
    "os.makedirs(folder_path, exist_ok=True)\n",
    "print(f\"Saving frames to: {folder_path}\")\n",
    "\n",
    "mp_pose = mp.solutions.pose\n",
    "mp_drawing = mp.solutions.drawing_utils\n",
    "mp_hands = mp.solutions.hands\n",
    "\n",
    "cap = cv2.VideoCapture(0)\n",
    "\n",
    "# Use both Pose and Hands (NO segmentation needed)\n",
    "with mp_pose.Pose(static_image_mode=False,\n",
    "                  model_complexity=1,\n",
    "                  enable_segmentation=False,  # ✅ Segmentation turned off\n",
    "                  min_detection_confidence=0.5,\n",
    "                  min_tracking_confidence=0.5) as pose, \\\n",
    "     mp_hands.Hands(static_image_mode=False,\n",
    "                    max_num_hands=2,\n",
    "                    min_detection_confidence=0.5,\n",
    "                    min_tracking_confidence=0.5) as hands:\n",
    "\n",
    "    frame_count = 0\n",
    "\n",
    "    while cap.isOpened():\n",
    "        ret, frame = cap.read()\n",
    "        if not ret:\n",
    "            break\n",
    "\n",
    "        # Convert to RGB\n",
    "        image_rgb = cv2.cvtColor(frame, cv2.COLOR_BGR2RGB)\n",
    "        image_rgb.flags.writeable = False\n",
    "\n",
    "        # Step 1: Pose estimation\n",
    "        pose_results = pose.process(image_rgb)\n",
    "\n",
    "        # Step 2: Hand detection\n",
    "        hand_results = hands.process(image_rgb)\n",
    "\n",
    "        image_rgb.flags.writeable = True\n",
    "        image_bgr = cv2.cvtColor(image_rgb, cv2.COLOR_RGB2BGR)\n",
    "\n",
    "        # We skip background removal and use original image directly\n",
    "        output_image = image_bgr.copy()\n",
    "\n",
    "        # Draw pose landmarks\n",
    "        if pose_results.pose_landmarks:\n",
    "            mp_drawing.draw_landmarks(\n",
    "                output_image,\n",
    "                pose_results.pose_landmarks,\n",
    "                mp_pose.POSE_CONNECTIONS)\n",
    "\n",
    "        # Draw hand landmarks\n",
    "        if hand_results.multi_hand_landmarks:\n",
    "            for hand_landmarks in hand_results.multi_hand_landmarks:\n",
    "                mp_drawing.draw_landmarks(\n",
    "                    output_image,\n",
    "                    hand_landmarks,\n",
    "                    mp_hands.HAND_CONNECTIONS)\n",
    "\n",
    "        # Save frame to folder\n",
    "        filename = os.path.join(folder_path, f\"frame_{frame_count:04d}.jpg\")\n",
    "        cv2.imwrite(filename, output_image)\n",
    "        frame_count += 1\n",
    "\n",
    "        # Show preview\n",
    "        cv2.imshow('Pose + Hands (No Background Removed)', output_image)\n",
    "\n",
    "        if cv2.waitKey(5) & 0xFF == ord('q'):\n",
    "            break\n",
    "\n",
    "cap.release()\n",
    "cv2.destroyAllWindows()\n"
   ]
  },
  {
   "cell_type": "code",
   "execution_count": null,
   "id": "2cf09855-dc70-461e-8d40-7930e8ea6bdc",
   "metadata": {},
   "outputs": [
    {
     "name": "stdout",
     "output_type": "stream",
     "text": [
      "no folder\n"
     ]
    },
    {
     "ename": "FileNotFoundError",
     "evalue": "[WinError 3] The system cannot find the path specified: ''",
     "output_type": "error",
     "traceback": [
      "\u001b[1;31m---------------------------------------------------------------------------\u001b[0m",
      "\u001b[1;31mFileNotFoundError\u001b[0m                         Traceback (most recent call last)",
      "Cell \u001b[1;32mIn[1], line 55\u001b[0m\n\u001b[0;32m     52\u001b[0m         \u001b[38;5;28;01mreturn\u001b[39;00m output\n\u001b[0;32m     54\u001b[0m \u001b[38;5;66;03m# --- Process all .jpg images ---\u001b[39;00m\n\u001b[1;32m---> 55\u001b[0m \u001b[38;5;28;01mfor\u001b[39;00m filename \u001b[38;5;129;01min\u001b[39;00m \u001b[43mos\u001b[49m\u001b[38;5;241;43m.\u001b[39;49m\u001b[43mlistdir\u001b[49m\u001b[43m(\u001b[49m\u001b[43mfolder\u001b[49m\u001b[43m)\u001b[49m:\n\u001b[0;32m     56\u001b[0m     \u001b[38;5;28;01mif\u001b[39;00m \u001b[38;5;129;01mnot\u001b[39;00m filename\u001b[38;5;241m.\u001b[39mlower()\u001b[38;5;241m.\u001b[39mendswith(\u001b[38;5;124m\"\u001b[39m\u001b[38;5;124m.jpg\u001b[39m\u001b[38;5;124m\"\u001b[39m):\n\u001b[0;32m     57\u001b[0m         \u001b[38;5;28;01mcontinue\u001b[39;00m\n",
      "\u001b[1;31mFileNotFoundError\u001b[0m: [WinError 3] The system cannot find the path specified: ''"
     ]
    },
    {
     "ename": "",
     "evalue": "",
     "output_type": "error",
     "traceback": [
      "\u001b[1;31mThe Kernel crashed while executing code in the current cell or a previous cell. \n",
      "\u001b[1;31mPlease review the code in the cell(s) to identify a possible cause of the failure. \n",
      "\u001b[1;31mClick <a href='https://aka.ms/vscodeJupyterKernelCrash'>here</a> for more info. \n",
      "\u001b[1;31mView Jupyter <a href='command:jupyter.viewOutput'>log</a> for further details."
     ]
    }
   ],
   "source": [
    "import os\n",
    "import cv2\n",
    "import numpy as np\n",
    "from PIL import Image\n",
    "import mediapipe as mp\n",
    "\n",
    "# --- Get folder path ---\n",
    "folder = input(\"path: \").strip()\n",
    "if not os.path.isdir(folder):\n",
    "    print(\"no folder\")\n",
    "    exit()\n",
    "\n",
    "def pillow_compress(image_path, quality):\n",
    "    try:\n",
    "        img = Image.open(image_path).convert(\"RGB\")\n",
    "        img.save(image_path, format='JPEG', quality=quality, optimize=True)\n",
    "    except Exception as e:\n",
    "        print(f\"Compression error on {image_path}: {e}\")\n",
    "\n",
    "# --- Background removal using segmentation mask ---\n",
    "def remove_background(image):\n",
    "    h, w = image.shape[:2]\n",
    "    rgb_image = cv2.cvtColor(image, cv2.COLOR_BGR2RGB)\n",
    "\n",
    "    mp_pose = mp.solutions.pose\n",
    "    with mp_pose.Pose(static_image_mode=True,\n",
    "                      model_complexity=2,\n",
    "                      enable_segmentation=True,\n",
    "                      min_detection_confidence=0.05) as pose:\n",
    "\n",
    "        results = pose.process(rgb_image)\n",
    "\n",
    "        if not results.pose_landmarks:\n",
    "            return image  # Return original if no person detected\n",
    "\n",
    "        if results.segmentation_mask is not None:\n",
    "            # Use Mediapipe segmentation\n",
    "            mask = results.segmentation_mask > 0.001\n",
    "            # Zero out background pixels (turn off)\n",
    "            output = np.where(mask[..., None], image, 0).astype(np.uint8)\n",
    "        else:\n",
    "            # Use fallback convex hull + padding\n",
    "            points = [(int(lm.x * w), int(lm.y * h)) for lm in results.pose_landmarks.landmark]\n",
    "            hull = cv2.convexHull(np.array(points, dtype=np.int32))\n",
    "            mask = np.zeros((h, w), dtype=np.uint8)\n",
    "            cv2.fillConvexPoly(mask, hull, 255)\n",
    "            kernel = cv2.getStructuringElement(cv2.MORPH_ELLIPSE, (25, 25))  # ~2.5cm padding\n",
    "            mask = cv2.dilate(mask, kernel, iterations=1)\n",
    "            mask_3ch = cv2.merge([mask] * 3)\n",
    "            output = np.where(mask_3ch == 255, image, 0).astype(np.uint8)\n",
    "\n",
    "        return output\n",
    "\n",
    "# --- Process all .jpg images ---\n",
    "for filename in os.listdir(folder):\n",
    "    if not filename.lower().endswith(\".jpg\"):\n",
    "        continue\n",
    "\n",
    "    image_path = os.path.join(folder, filename)\n",
    "    print(f\"Processing: {filename}\")\n",
    "\n",
    "    # Step 1: Initial compression (simulate Guetzli)\n",
    "    pillow_compress(image_path, quality=65)\n",
    "\n",
    "    original_img = cv2.imread(image_path)\n",
    "    final_img = remove_background(original_img)\n",
    "    cv2.imwrite(image_path, final_img)\n",
    "\n",
    "    pillow_compress(image_path, quality=55)\n",
    "\n",
    "print(\"✅ All images processed and replaced successfully.\")"
   ]
  },
  {
   "cell_type": "code",
   "execution_count": null,
   "id": "6db32a20-a8c3-440e-9427-625a3569f369",
   "metadata": {},
   "outputs": [],
   "source": []
  }
 ],
 "metadata": {
  "kernelspec": {
   "display_name": ".venv (3.13.5)",
   "language": "python",
   "name": "python3"
  },
  "language_info": {
   "codemirror_mode": {
    "name": "ipython",
    "version": 3
   },
   "file_extension": ".py",
   "mimetype": "text/x-python",
   "name": "python",
   "nbconvert_exporter": "python",
   "pygments_lexer": "ipython3",
   "version": "3.9.13"
  }
 },
 "nbformat": 4,
 "nbformat_minor": 5
}
